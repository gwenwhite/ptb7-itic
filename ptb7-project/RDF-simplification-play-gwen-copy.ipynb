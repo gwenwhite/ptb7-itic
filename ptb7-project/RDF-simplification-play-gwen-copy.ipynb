{
 "cells": [
  {
   "cell_type": "code",
   "execution_count": 1,
   "metadata": {},
   "outputs": [],
   "source": [
    "import numpy as np\n",
    "import matplotlib.pyplot as plt\n",
    "import freud\n",
    "import signac\n",
    "import gsd\n",
    "import hoomd\n",
    "import gsd.pygsd\n",
    "import gsd.hoomd\n",
    "import scipy\n",
    "from scipy import signal\n",
    "import time\n",
    "import os\n",
    "from scipy.stats import linregress"
   ]
  },
  {
   "cell_type": "code",
   "execution_count": 2,
   "metadata": {},
   "outputs": [],
   "source": [
    "data_path = \"/home/gwenwhite/cmelab/ptb7-itic/ptb7-project\"\n",
    "project = signac.get_project(data_path)"
   ]
  },
  {
   "cell_type": "code",
   "execution_count": 18,
   "metadata": {},
   "outputs": [
    {
     "name": "stdout",
     "output_type": "stream",
     "text": [
      "/home/gwenwhite/cmelab/ptb7-itic/ptb7-project/workspace/e18546285aeef7bde68c1bda5fda3f72/msd.log\n"
     ]
    }
   ],
   "source": [
    "state_dict={\"size\": \"small\", \n",
    "            \"process\": \"quench\", \n",
    "            \"molecule\":\"PTB7_10mer_smiles\",\n",
    "            \"kT_reduced\":0.8, \n",
    "            \"density\":0.6}\n",
    "job_path= project.find_jobs(state_dict)\n",
    "#specify file type\n",
    "for job in job_path:\n",
    "    path = (job.fn(\"msd.log\"))\n",
    "    print(path)"
   ]
  },
  {
   "cell_type": "code",
   "execution_count": 29,
   "metadata": {},
   "outputs": [],
   "source": [
    "def atom_type_pos(frame, atom_types): \n",
    "    positions = []\n",
    "    for idx, type_id in enumerate(frame.particles.typeid):\n",
    "        if frame.particles.types[type_id] in atom_types:\n",
    "            positions.append(frame.particles.position[idx])\n",
    "    return positions\n",
    "\n",
    "\n",
    "def rdf_from_gsd(job, atom_types='all', r_max=5, r_min=0.5, nbins=50, start=100):\n",
    "    gsd_file = \"{}/trajectory.gsd\".format(job.workspace())\n",
    "    f = gsd.pygsd.GSDFile(open(gsd_file, \"rb\"))\n",
    "    trajectory = gsd.hoomd.HOOMDTrajectory(f)\n",
    "    \n",
    "    if r_max is None:\n",
    "        r_max = max(trajectory[-1].configuration.box[:3]) * 0.45\n",
    "    freud_rdf = freud.density.RDF(bins=nbins, r_max=r_max, r_min=r_min)\n",
    "    for frame in trajectory[start:]:\n",
    "        if atom_types == 'all':\n",
    "            freud_rdf.compute(frame, reset=False)\n",
    "        else:\n",
    "            query_points = atom_type_pos(frame, atom_types)\n",
    "            box = frame.configuration.box\n",
    "            freud_rdf.compute(system=(box, query_points), reset=False)\n",
    "    f.close()\n",
    "    return freud_rdf\n",
    "\n",
    "def msd_slope(job, step_size = 2, atom_types='all'):  \n",
    "    msd = np.genfromtxt(job, names=True, delimiter=\"\\t\")\n",
    "    x = msd['timestep'][-3000::step_size]\n",
    "    y = msd[atom_types][-3000::step_size]\n",
    "    slope, intercept, r_value, p_value, std_err = linregress(x, y)\n",
    "    plt.plot(x, y)\n",
    "    plt.plot(x, x*slope + intercept, linestyle = 'dotted')\n",
    "    plt.show()         \n",
    "    return x, y, slope, intercept\n",
    "    "
   ]
  },
  {
   "cell_type": "code",
   "execution_count": 80,
   "metadata": {},
   "outputs": [],
   "source": [
    "def get_rdf_data(file, rdf_type):\n",
    "    data = np.genfromtxt(file, names=True, delimiter=',')\n",
    "    x = data['{}_x'.format(rdf_type)]\n",
    "    y = data['{}_y'.format(rdf_type)]\n",
    "    return x,y\n",
    "\n",
    "def plot_slope(msd_slope):\n",
    "    x, y, slope, intercept = msd_slope(path)\n",
    "\n",
    "def data_analysis(job, path):\n",
    "    if path is job.fn(\"trajectory.gsd\"):\n",
    "        rdf_results= rdf_from_gsd(job)\n",
    "        x = rdf_results.bin_centers\n",
    "        y = rdf_results.rdf\n",
    "        txt_file = \"{}/rdf-data.txt\".format(job.workspace())  \n",
    "        np.savetxt(txt_file, np.transpose([x,y]), delimiter=',', header= \"bin_centers, rdf\")\n",
    "    if path is job.fn(\"msd.log\"):\n",
    "        plt.plot(x, y, slope, intercept = msd_slope(path))\n"
   ]
  },
  {
   "cell_type": "code",
   "execution_count": 46,
   "metadata": {},
   "outputs": [],
   "source": [
    "#job_list= project.find_jobs(state_dict)\n",
    "#data_path= \"/home/gwenwhite/cmelab/ptb7-itic/ptb7-project/workspace/fe36ee4052a01cae041ef5988477de10/msd.log\"\n",
    "#x, y, slope, intercept = msd_slope(project)"
   ]
  },
  {
   "cell_type": "code",
   "execution_count": 74,
   "metadata": {},
   "outputs": [],
   "source": [
    "def data_analysis(job, path):\n",
    "    for job.fn in path:\n",
    "        if path is job.fn(\"msd.log\"):\n",
    "            x, y, slope, intercept = msd_slope(path)\n",
    "            plt.plot()\n",
    "        if path is job.fn(\"trajectory.gsd\"):\n",
    "            rdf_results= rdf_from_gsd(job)\n",
    "            x = rdf_results.bin_centers\n",
    "            y = rdf_results.rdf\n",
    "            txt_file = \"{}/rdf-data.txt\".format(job.workspace())  \n",
    "            np.savetxt(txt_file, np.transpose([x,y]), delimiter=',', header= \"bin_centers, rdf\")\n"
   ]
  },
  {
   "cell_type": "code",
   "execution_count": 73,
   "metadata": {},
   "outputs": [
    {
     "data": {
      "image/png": "[encoded data removed]",
      "text/plain": [
       "<Figure size 432x288 with 1 Axes>"
      ]
     },
     "metadata": {
      "needs_background": "light"
     },
     "output_type": "display_data"
    }
   ],
   "source": [
    "x, y, slope, intercept = msd_slope(path)\n"
   ]
  },
  {
   "cell_type": "code",
   "execution_count": null,
   "metadata": {},
   "outputs": [],
   "source": []
  }
 ],
 "metadata": {
  "kernelspec": {
   "display_name": "Python 3",
   "language": "python",
   "name": "python3"
  },
  "language_info": {
   "codemirror_mode": {
    "name": "ipython",
    "version": 3
   },
   "file_extension": ".py",
   "mimetype": "text/x-python",
   "name": "python",
   "nbconvert_exporter": "python",
   "pygments_lexer": "ipython3",
   "version": "3.7.6"
  }
 },
 "nbformat": 4,
 "nbformat_minor": 4
}
