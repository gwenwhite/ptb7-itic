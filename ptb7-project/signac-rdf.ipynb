{
 "cells": [
  {
   "cell_type": "markdown",
   "metadata": {},
   "source": [
    "## Signac RDF Function"
   ]
  },
  {
   "cell_type": "markdown",
   "metadata": {},
   "source": [
    "#### Imports"
   ]
  },
  {
   "cell_type": "code",
   "execution_count": 28,
   "metadata": {},
   "outputs": [
    {
     "ename": "ModuleNotFoundError",
     "evalue": "No module named 'gsd_utils'",
     "output_type": "error",
     "traceback": [
      "\u001b[0;31m---------------------------------------------------------------------------\u001b[0m",
      "\u001b[0;31mModuleNotFoundError\u001b[0m                       Traceback (most recent call last)",
      "\u001b[0;32m<ipython-input-28-6b7f286fe913>\u001b[0m in \u001b[0;36m<module>\u001b[0;34m\u001b[0m\n\u001b[1;32m     16\u001b[0m \u001b[0;32mfrom\u001b[0m \u001b[0mscipy\u001b[0m\u001b[0;34m.\u001b[0m\u001b[0msparse\u001b[0m\u001b[0;34m.\u001b[0m\u001b[0mcsgraph\u001b[0m \u001b[0;32mimport\u001b[0m \u001b[0mconnected_components\u001b[0m\u001b[0;34m\u001b[0m\u001b[0;34m\u001b[0m\u001b[0m\n\u001b[1;32m     17\u001b[0m \u001b[0;32mfrom\u001b[0m \u001b[0mcme_lab_utils\u001b[0m \u001b[0;32mimport\u001b[0m \u001b[0mgsd_utils\u001b[0m\u001b[0;34m\u001b[0m\u001b[0;34m\u001b[0m\u001b[0m\n\u001b[0;32m---> 18\u001b[0;31m \u001b[0;32mfrom\u001b[0m \u001b[0mgsd_utils\u001b[0m \u001b[0;32mimport\u001b[0m \u001b[0mgsd_rdf\u001b[0m\u001b[0;34m\u001b[0m\u001b[0;34m\u001b[0m\u001b[0m\n\u001b[0m",
      "\u001b[0;31mModuleNotFoundError\u001b[0m: No module named 'gsd_utils'"
     ]
    }
   ],
   "source": [
    "import numpy as np\n",
    "import matplotlib.pyplot as plt\n",
    "import freud\n",
    "import signac\n",
    "import gsd\n",
    "import hoomd\n",
    "import gsd.pygsd\n",
    "import gsd.hoomd\n",
    "import scipy\n",
    "from scipy import signal\n",
    "import time\n",
    "import os\n",
    "import cycler\n",
    "from scipy.stats import linregress\n",
    "from scipy.sparse import csr_matrix\n",
    "from scipy.sparse.csgraph import connected_components\n",
    "from cme_lab_utils import gsd_utils\n",
    "from gsd_utils import gsd_rdf"
   ]
  },
  {
   "cell_type": "markdown",
   "metadata": {},
   "source": [
    "#### Give a file path to pull the trajectory from"
   ]
  },
  {
   "cell_type": "code",
   "execution_count": 17,
   "metadata": {},
   "outputs": [],
   "source": [
    "ptb7_path = \"/home/gwenwhite/cmelab/ptb7-itic/ptb7-project/\"\n",
    "ptb7_project = signac.get_project(ptb7_path)"
   ]
  },
  {
   "cell_type": "markdown",
   "metadata": {},
   "source": [
    "#### Narrow results with state dictionary and file type"
   ]
  },
  {
   "cell_type": "code",
   "execution_count": 18,
   "metadata": {},
   "outputs": [],
   "source": [
    "state_dict={\"size\": \"small\", \n",
    "            \"process\": \"quench\",\n",
    "            \"density\":0.9,\n",
    "            \"molecule\":\"PTB7_5mer_smiles\"}\n",
    "\n",
    "job_list= ptb7_project.find_jobs(state_dict)"
   ]
  },
  {
   "cell_type": "markdown",
   "metadata": {},
   "source": [
    "#### Code that creates the RDF from state dict"
   ]
  },
  {
   "cell_type": "code",
   "execution_count": 19,
   "metadata": {},
   "outputs": [],
   "source": [
    "def frame_get_type_position(gsdfile, typename, frame=-1):\n",
    "    with gsd.hoomd.open(name=gsdfile, mode='rb') as f:\n",
    "        snap = f[frame]\n",
    "    typepos = snap.particles.position[\n",
    "            snap.particles.typeid == snap.particles.types.index(typename)\n",
    "            ]\n",
    "    return typepos\n",
    "\n",
    "\n",
    "def snap_bond_graph(snap):\n",
    "    bond_graph = csr_matrix(\n",
    "        (np.ones(snap.bonds.N), (snap.bonds.group[:, 0], snap.bonds.group[:, 1])),\n",
    "        shape=(snap.particles.N, snap.particles.N),\n",
    "    )\n",
    "    n_components, labels = connected_components(csgraph=bond_graph, directed=False)\n",
    "    return labels\n",
    "\n",
    "\n",
    "#def gsd_rdf(\n",
    "#    job_path,\n",
    "#    A_name,\n",
    "#    B_name,\n",
    "#    start=0,\n",
    "#    stop=None,\n",
    "#    rmax=None,\n",
    "#    rmin=0,\n",
    "#    bins=50,\n",
    "#    exclude_bonded=True):\n",
    "#    \n",
    "#    with gsd.hoomd.open(job_path) as t:\n",
    "#        snap = t[0]\n",
    "#\n",
    "#        if rmax is None:\n",
    "#            rmax = max(snap.configuration.box[:3]) * 0.45\n",
    "#\n",
    "#        rdf = freud.density.RDF(bins=bins, r_max=rmax, r_min=rmin)\n",
    "#        type_A = snap.particles.typeid == snap.particles.types.index(A_name)\n",
    "#        type_B = snap.particles.typeid == snap.particles.types.index(B_name)\n",
    "#\n",
    "#        if exclude_bonded:\n",
    "#            molecules = snap_bond_graph(snap)\n",
    "#            molecules_A = molecules[type_A]\n",
    "#            molecules_B = molecules[type_B]\n",
    "#            \n",
    "#        for snap in t[start:stop]:\n",
    "#            A_pos = snap.particles.position[type_A]\n",
    "#            if A_name != B_name:\n",
    "#                B_pos = snap.particles.position[type_B]\n",
    "#            else:\n",
    "#                B_pos = A_pos\n",
    "#\n",
    "#            box = snap.configuration.box\n",
    "#            system = (box, A_pos)\n",
    "#            aq = freud.locality.AABBQuery.from_system(system)\n",
    "#            nlist = aq.query(B_pos, {\"r_max\": rmax}).toNeighborList()\n",
    "#\n",
    "#            if exclude_bonded:\n",
    "#                nlist.filter(molecules_A[nlist.point_indices]\n",
    "#                             != molecules_B[nlist.query_point_indices])\n",
    "#\n",
    "#            rdf.compute(aq, neighbors=nlist, reset=False)\n",
    "#        return rdf"
   ]
  },
  {
   "cell_type": "code",
   "execution_count": 20,
   "metadata": {},
   "outputs": [],
   "source": [
    "def rdf_to_txt(job_list):\n",
    "    for job in job_list:\n",
    "        job_path = job.fn('trajectory.gsd')\n",
    "        #gsdfile = job_path\n",
    "        A_name = \"ss\"\n",
    "        B_name = \"ss\"\n",
    "        rdf = cme.gsd_rdf(job_path, A_name, B_name, rmin=0.01, rmax=6)\n",
    "        x = rdf.bin_centers\n",
    "        y = rdf.rdf\n",
    "        filename = job.fn('{}-{}-uncorr-rdf-data.txt'.format(A_name[0], B_name[0]))\n",
    "        np.savetxt(filename, np.transpose([x,y]), delimiter=',', header= \"bin_centers, rdf\")\n",
    "        print(\"worked\")\n",
    "        print(job)"
   ]
  },
  {
   "cell_type": "code",
   "execution_count": 21,
   "metadata": {},
   "outputs": [
    {
     "ename": "AttributeError",
     "evalue": "module 'cme_lab_utils' has no attribute 'gsd_rdf'",
     "output_type": "error",
     "traceback": [
      "\u001b[0;31m---------------------------------------------------------------------------\u001b[0m",
      "\u001b[0;31mAttributeError\u001b[0m                            Traceback (most recent call last)",
      "\u001b[0;32m<ipython-input-21-a9eb7d735294>\u001b[0m in \u001b[0;36m<module>\u001b[0;34m\u001b[0m\n\u001b[0;32m----> 1\u001b[0;31m \u001b[0mrdf_to_txt\u001b[0m\u001b[0;34m(\u001b[0m\u001b[0mjob_list\u001b[0m\u001b[0;34m)\u001b[0m\u001b[0;34m\u001b[0m\u001b[0;34m\u001b[0m\u001b[0m\n\u001b[0m",
      "\u001b[0;32m<ipython-input-20-f522d30e0c5f>\u001b[0m in \u001b[0;36mrdf_to_txt\u001b[0;34m(job_list)\u001b[0m\n\u001b[1;32m      5\u001b[0m         \u001b[0mA_name\u001b[0m \u001b[0;34m=\u001b[0m \u001b[0;34m\"ss\"\u001b[0m\u001b[0;34m\u001b[0m\u001b[0;34m\u001b[0m\u001b[0m\n\u001b[1;32m      6\u001b[0m         \u001b[0mB_name\u001b[0m \u001b[0;34m=\u001b[0m \u001b[0;34m\"ss\"\u001b[0m\u001b[0;34m\u001b[0m\u001b[0;34m\u001b[0m\u001b[0m\n\u001b[0;32m----> 7\u001b[0;31m         \u001b[0mrdf\u001b[0m \u001b[0;34m=\u001b[0m \u001b[0mcme\u001b[0m\u001b[0;34m.\u001b[0m\u001b[0mgsd_rdf\u001b[0m\u001b[0;34m(\u001b[0m\u001b[0mjob_path\u001b[0m\u001b[0;34m,\u001b[0m \u001b[0mA_name\u001b[0m\u001b[0;34m,\u001b[0m \u001b[0mB_name\u001b[0m\u001b[0;34m,\u001b[0m \u001b[0mrmin\u001b[0m\u001b[0;34m=\u001b[0m\u001b[0;36m0.01\u001b[0m\u001b[0;34m,\u001b[0m \u001b[0mrmax\u001b[0m\u001b[0;34m=\u001b[0m\u001b[0;36m6\u001b[0m\u001b[0;34m)\u001b[0m\u001b[0;34m\u001b[0m\u001b[0;34m\u001b[0m\u001b[0m\n\u001b[0m\u001b[1;32m      8\u001b[0m         \u001b[0mx\u001b[0m \u001b[0;34m=\u001b[0m \u001b[0mrdf\u001b[0m\u001b[0;34m.\u001b[0m\u001b[0mbin_centers\u001b[0m\u001b[0;34m\u001b[0m\u001b[0;34m\u001b[0m\u001b[0m\n\u001b[1;32m      9\u001b[0m         \u001b[0my\u001b[0m \u001b[0;34m=\u001b[0m \u001b[0mrdf\u001b[0m\u001b[0;34m.\u001b[0m\u001b[0mrdf\u001b[0m\u001b[0;34m\u001b[0m\u001b[0;34m\u001b[0m\u001b[0m\n",
      "\u001b[0;31mAttributeError\u001b[0m: module 'cme_lab_utils' has no attribute 'gsd_rdf'"
     ]
    }
   ],
   "source": [
    "rdf_to_txt(job_list)"
   ]
  },
  {
   "cell_type": "markdown",
   "metadata": {},
   "source": [
    "#### Create a .txt file of RDF data"
   ]
  },
  {
   "cell_type": "markdown",
   "metadata": {},
   "source": [
    "### plot the rdf .txt file"
   ]
  },
  {
   "cell_type": "code",
   "execution_count": 30,
   "metadata": {},
   "outputs": [],
   "source": [
    "def plot_txt(state_dict):\n",
    "    state_dict['density.$lt'] = 1.3\n",
    "    fig = plt.figure()\n",
    "    ax = plt.subplot(111)\n",
    "    color = plt.cm.coolwarm(np.linspace(0, 1, len(job_list)))\n",
    "    plt.rcParams['axes.prop_cycle'] = cycler.cycler('color', color)\n",
    "    for kT,job in job_list.groupby('kT_reduced'):\n",
    "        job = list(job)[0]\n",
    "        A_name = \"ss\"\n",
    "        B_name = \"ss\"\n",
    "        txt_path= job.fn('{}-{}-uncorr-rdf-data.txt'.format(A_name[0], B_name[0]))\n",
    "        line= np.genfromtxt(txt_path, names=True, delimiter=\",\")\n",
    "        x= line[\"bin_centers\"]\n",
    "        y= line[\"rdf\"]\n",
    "        plt.plot(x, y, label=kT)\n",
    "        plt.xlabel(\"r (A.U.)\")\n",
    "        plt.ylabel(\"g(r)\")\n",
    "        plt.title(\"%s and %s's at %sden\" % (A_name, B_name, job.sp['density']), fontsize=16)\n",
    "        plt.legend(bbox_to_anchor=(1.5, 1), ncol=2)"
   ]
  },
  {
   "cell_type": "code",
   "execution_count": 31,
   "metadata": {},
   "outputs": [
    {
     "data": {
      "image/png": "[encoded data removed]",
      "text/plain": [
       "<Figure size 432x288 with 1 Axes>"
      ]
     },
     "metadata": {
      "needs_background": "light"
     },
     "output_type": "display_data"
    }
   ],
   "source": [
    "plot_txt(state_dict)"
   ]
  },
  {
   "cell_type": "code",
   "execution_count": null,
   "metadata": {},
   "outputs": [],
   "source": []
  }
 ],
 "metadata": {
  "kernelspec": {
   "display_name": "Python 3",
   "language": "python",
   "name": "python3"
  },
  "language_info": {
   "codemirror_mode": {
    "name": "ipython",
    "version": 3
   },
   "file_extension": ".py",
   "mimetype": "text/x-python",
   "name": "python",
   "nbconvert_exporter": "python",
   "pygments_lexer": "ipython3",
   "version": "3.7.6"
  }
 },
 "nbformat": 4,
 "nbformat_minor": 4
}
