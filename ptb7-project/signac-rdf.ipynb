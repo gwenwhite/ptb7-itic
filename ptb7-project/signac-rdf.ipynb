{
 "cells": [
  {
   "cell_type": "markdown",
   "metadata": {},
   "source": [
    "## Signac RDF Function"
   ]
  },
  {
   "cell_type": "markdown",
   "metadata": {},
   "source": [
    "#### Imports"
   ]
  },
  {
   "cell_type": "code",
   "execution_count": 1,
   "metadata": {},
   "outputs": [],
   "source": [
    "import numpy as np\n",
    "import matplotlib.pyplot as plt\n",
    "import freud\n",
    "import signac\n",
    "import gsd\n",
    "import hoomd\n",
    "import gsd.pygsd\n",
    "import gsd.hoomd\n",
    "import scipy\n",
    "from scipy import signal\n",
    "import time\n",
    "import os\n",
    "import cycler\n",
    "from scipy.stats import linregress\n",
    "from scipy.sparse import csr_matrix\n",
    "from scipy.sparse.csgraph import connected_components\n",
    "import cmeutils\n",
    "from cmeutils import structure"
   ]
  },
  {
   "cell_type": "markdown",
   "metadata": {},
   "source": [
    "#### Give a file path to pull the trajectory from"
   ]
  },
  {
   "cell_type": "code",
   "execution_count": 3,
   "metadata": {},
   "outputs": [],
   "source": [
    "ptb7_path = \"/home/gwenwhite/cmelab/projects/ptb7-project/\"\n",
    "ptb7_project = signac.get_project(ptb7_path)"
   ]
  },
  {
   "cell_type": "markdown",
   "metadata": {},
   "source": [
    "#### Narrow results with state dictionary "
   ]
  },
  {
   "cell_type": "code",
   "execution_count": 11,
   "metadata": {},
   "outputs": [
    {
     "name": "stdout",
     "output_type": "stream",
     "text": [
      "9afdb8a280a87c29213b69b7794a5504\n"
     ]
    }
   ],
   "source": [
    "state_dict={\"size\": \"small\", \n",
    "            \"process\": \"quench\",\n",
    "            \"molecule\": \"PTB7_5mer_smiles\",\n",
    "            \"density\":0.9,\n",
    "            \"kT_reduced\": 1.2}\n",
    "\n",
    "job_list= ptb7_project.find_jobs(state_dict)\n",
    "for job in job_list:\n",
    "    print(job)"
   ]
  },
  {
   "cell_type": "markdown",
   "metadata": {},
   "source": [
    "#### Create a .txt file of RDF data"
   ]
  },
  {
   "cell_type": "code",
   "execution_count": 15,
   "metadata": {},
   "outputs": [],
   "source": [
    "def rdf_to_txt(job_list):\n",
    "    for job in job_list:\n",
    "        job_path = job.fn('trajectory.gsd')\n",
    "        A_name = \"ss\"\n",
    "        B_name = \"ss\"\n",
    "        rdf, norm = structure.gsd_rdf(job_path, A_name, B_name, r_min=0.01, r_max=6)\n",
    "        '''gsd_utils.gsd_rdf is a function from cme_lab_utils that creates the RDF'''\n",
    "        x = rdf.bin_centers\n",
    "        y = rdf.rdf*norm\n",
    "        filename = job.fn('{}-{}-uncorr-rdf-data.txt'.format(A_name[0], B_name[0]))\n",
    "        np.savetxt(filename, np.transpose([x,y]), delimiter=',', header= \"bin_centers, rdf\")\n",
    "        print(\".txt file created for job:\")\n",
    "        print(job)"
   ]
  },
  {
   "cell_type": "code",
   "execution_count": 16,
   "metadata": {},
   "outputs": [
    {
     "name": "stdout",
     "output_type": "stream",
     "text": [
      ".txt file created for job:\n",
      "9afdb8a280a87c29213b69b7794a5504\n"
     ]
    }
   ],
   "source": [
    "rdf_to_txt(job_list)"
   ]
  },
  {
   "cell_type": "markdown",
   "metadata": {},
   "source": [
    "#### specify how txt file can be plotted"
   ]
  },
  {
   "cell_type": "code",
   "execution_count": 19,
   "metadata": {},
   "outputs": [],
   "source": [
    "def plot_txt(constant=\"den\"): \n",
    "    if constant == \"den\":\n",
    "        state_dict['density.$lt'] = 1.3\n",
    "        fig = plt.figure()\n",
    "        ax = plt.subplot(111)\n",
    "        color = plt.cm.coolwarm(np.linspace(0, 1, len(job_list)))\n",
    "        plt.rcParams['axes.prop_cycle'] = cycler.cycler('color', color)\n",
    "        for kT,job in job_list.groupby('kT_reduced'):\n",
    "            job = list(job)[0]\n",
    "            A_name = \"ss\"\n",
    "            B_name = \"ss\"\n",
    "            txt_path= job.fn('{}-{}-uncorr-rdf-data.txt'.format(A_name[0], B_name[0]))\n",
    "            line= np.genfromtxt(txt_path, names=True, delimiter=\",\")\n",
    "            x= line[\"bin_centers\"]\n",
    "            y= line[\"rdf\"]\n",
    "            plt.plot(x, y, label=kT)\n",
    "            plt.xlabel(\"r (A.U.)\")\n",
    "            plt.ylabel(\"g(r)\")\n",
    "            plt.title(\"%s and %s's at %sden\" % (A_name, B_name, job.sp['density']), fontsize=16)\n",
    "            plt.legend(bbox_to_anchor=(1.5, 1), ncol=2)\n",
    "    elif constant == \"temp\":\n",
    "        state_dict['kT_reduced.$lt'] = 2.5\n",
    "        fig = plt.figure()\n",
    "        ax = plt.subplot(111)\n",
    "        color = plt.cm.coolwarm(np.linspace(0, 1, len(job_list)))\n",
    "        plt.rcParams['axes.prop_cycle'] = cycler.cycler('color', color)\n",
    "        for den,job in job_list.groupby('density'):\n",
    "            job = list(job)[0]\n",
    "            A_name = \"ss\"\n",
    "            B_name = \"ss\"\n",
    "            txt_path= job.fn('{}-{}-uncorr-rdf-data.txt'.format(A_name[0], B_name[0]))\n",
    "            line= np.genfromtxt(txt_path, names=True, delimiter=\",\")\n",
    "            x= line[\"bin_centers\"]\n",
    "            y= line[\"rdf\"]\n",
    "            plt.plot(x, y, label=den)\n",
    "            plt.xlabel(\"r (A.U.)\")\n",
    "            plt.ylabel(\"g(r)\")\n",
    "            plt.title(\"%s and %s's at %sden\" % (A_name, B_name, job.sp['kT_reduced']), fontsize=16)\n",
    "            plt.legend(bbox_to_anchor=(1.5, 1), ncol=2)\n",
    "    elif constant == \"both\":\n",
    "        fig = plt.figure()\n",
    "        ax = plt.subplot(111)\n",
    "        color = plt.cm.brg(np.linspace(0, 1, len(job_list)))\n",
    "        plt.rcParams['axes.prop_cycle'] = cycler.cycler('color', color)\n",
    "        for mer,job in job_list.groupby('molecule'):\n",
    "            job = list(job)[0]\n",
    "            A_name = \"ss\"\n",
    "            B_name = \"ss\"\n",
    "            txt_path= job.fn('{}-{}-uncorr-rdf-data.txt'.format(A_name[0], B_name[0]))\n",
    "            line= np.genfromtxt(txt_path, names=True, delimiter=\",\")\n",
    "            x= line[\"bin_centers\"]\n",
    "            y= line[\"rdf\"]\n",
    "            plt.plot(x, y, label=mer)\n",
    "            plt.xlabel(\"r (A.U.)\")\n",
    "            plt.ylabel(\"g(r)\")\n",
    "            plt.title(\"%s and %s's at %sden %skT\" % (A_name, B_name, job.sp['density'], job.sp['kT_reduced']), fontsize=16)\n",
    "            plt.legend(bbox_to_anchor=(1.5, 1), ncol=2)\n",
    "        "
   ]
  },
  {
   "cell_type": "markdown",
   "metadata": {},
   "source": [
    "#### Plot your txt file(s)"
   ]
  },
  {
   "cell_type": "code",
   "execution_count": 20,
   "metadata": {
    "scrolled": true
   },
   "outputs": [
    {
     "data": {
      "image/png": "[encoded data removed]",
      "text/plain": [
       "<Figure size 432x288 with 1 Axes>"
      ]
     },
     "metadata": {
      "needs_background": "light"
     },
     "output_type": "display_data"
    }
   ],
   "source": [
    "plot_txt(constant=\"both\") #constant= \"den\" for density, \"temp\" for temperature, \"both\" to compare polymer lengths at constant temperature and density"
   ]
  },
  {
   "cell_type": "code",
   "execution_count": null,
   "metadata": {},
   "outputs": [],
   "source": []
  },
  {
   "cell_type": "code",
   "execution_count": null,
   "metadata": {},
   "outputs": [],
   "source": []
  }
 ],
 "metadata": {
  "kernelspec": {
   "display_name": "Python 3",
   "language": "python",
   "name": "python3"
  },
  "language_info": {
   "codemirror_mode": {
    "name": "ipython",
    "version": 3
   },
   "file_extension": ".py",
   "mimetype": "text/x-python",
   "name": "python",
   "nbconvert_exporter": "python",
   "pygments_lexer": "ipython3",
   "version": "3.7.10"
  }
 },
 "nbformat": 4,
 "nbformat_minor": 4
}
