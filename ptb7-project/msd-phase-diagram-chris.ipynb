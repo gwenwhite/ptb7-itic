{
 "cells": [
  {
   "cell_type": "code",
   "execution_count": 1,
   "metadata": {},
   "outputs": [],
   "source": [
    "import signac\n",
    "import numpy as np\n",
    "import matplotlib.pyplot as plt\n",
    "import os"
   ]
  },
  {
   "cell_type": "code",
   "execution_count": 4,
   "metadata": {},
   "outputs": [],
   "source": [
    "def msd_slope(file_path, atom_type):\n",
    "    msd = np.genfromtxt(file_path, names=True, delimiter=\",\")\n",
    "    x = msd['timestep']\n",
    "    y = msd[atom_type]\n",
    "    \n",
    "    num_data_points = len(x)\n",
    "    start_index = num_data_points // 10\n",
    "    x_slice = x[-start_index:0]\n",
    "    y_slice = y[-start_index:0]    \n",
    "    \n",
    "    slope = (y_slice[-1] - y_slice[0]) / (x_slice[-1] - x_slice[0])\n",
    "    return slope\n",
    "\n",
    "    "
   ]
  },
  {
   "cell_type": "code",
   "execution_count": 3,
   "metadata": {},
   "outputs": [],
   "source": [
    "project = signac.get_project()\n",
    "\n",
    "polymer_length = 5\n",
    "molecule = \"PTB7_{}mer_smiles\".format(polymer_length)\n",
    "statepoint_dict = {\"size\": \"small\", \"process\": \"quench\", \"molecule\": molecule}\n",
    "job_list = project.find_jobs(statepoint_dict)"
   ]
  },
  {
   "cell_type": "code",
   "execution_count": null,
   "metadata": {},
   "outputs": [],
   "source": [
    "def msd_phase_diagram(job_list, atom_type='centers'):\n",
    "    temperatures = []\n",
    "    densities = []\n",
    "    slope_values = []\n",
    "    for job in job_list:\n",
    "        msd_log = os.path.join(job.workspace(), 'msd.log')\n",
    "        slope = msd_slope(msd_log, atom_type)\n",
    "        slope_values.append(slope)\n",
    "        temperatures.append(job.sp['kT_reduced'])\n",
    "        densities.append(job.sp['density'])\n",
    "    \n",
    "        \n",
    "        "
   ]
  }
 ],
 "metadata": {
  "kernelspec": {
   "display_name": "Python 3",
   "language": "python",
   "name": "python3"
  },
  "language_info": {
   "codemirror_mode": {
    "name": "ipython",
    "version": 3
   },
   "file_extension": ".py",
   "mimetype": "text/x-python",
   "name": "python",
   "nbconvert_exporter": "python",
   "pygments_lexer": "ipython3",
   "version": "3.7.6"
  }
 },
 "nbformat": 4,
 "nbformat_minor": 4
}
