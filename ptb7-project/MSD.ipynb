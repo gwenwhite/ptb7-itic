{
 "cells": [
  {
   "cell_type": "code",
   "execution_count": null,
   "metadata": {},
   "outputs": [],
   "source": [
    "import freud\n",
    "import gsd\n",
    "import gsd.pygsd\n",
    "import gsd.hoomd\n",
    "import signac\n",
    "import numpy as np\n",
    "import matplotlib.pyplot as plt\n",
    "import matplotlib as mpl\n",
    "import cycler\n",
    "from scipy.stats import linregress\n",
    "import cycler\n",
    "from pylab import *"
   ]
  },
  {
   "cell_type": "code",
   "execution_count": null,
   "metadata": {},
   "outputs": [],
   "source": [
    "project = signac.get_project(\"ptb7-project\")"
   ]
  },
  {
   "cell_type": "code",
   "execution_count": null,
   "metadata": {},
   "outputs": [],
   "source": [
    "def atom_type_pos(snap, atom_type):\n",
    "    if not isinstance(atom_type, list):\n",
    "        atom_type = [atom_type]\n",
    "    positions = []\n",
    "    for atom in atom_type:\n",
    "        indices = np.where(snap.particles.typeid == snap.particles.types.index(atom))\n",
    "        positions.append(snap.particles.position[indices])\n",
    "    return np.concatenate(positions)"
   ]
  },
  {
   "cell_type": "code",
   "execution_count": null,
   "metadata": {},
   "outputs": [],
   "source": [
    "#constant density of msd.log\n",
    "def msd_constant_density(density, temp_min, temp_max, polymer_length=None):\n",
    "    state_dict = {\"size\": \"small\",\n",
    "                  \"process\": \"quench\",\n",
    "                  \"density\":density,\n",
    "                  \"molecule\":\"PTB7_{}mer_smiles\"}\n",
    "    if polymer_length:\n",
    "        state_dict[\"molecule\"] = \"PTB7_{}mer_smiles\".format(polymer_length)\n",
    "    job_list = project.find_jobs(state_dict)\n",
    "    slope_values = []\n",
    "    fig = plt.figure()\n",
    "    ax = plt.subplot(111)\n",
    "    for job in job_list:\n",
    "        if temp_min <= job.sp['kT_reduced'] <= temp_max:\n",
    "            x, y, slope = msd_slope(job)\n",
    "            ax.plot(x, y, label=job.sp['kT_reduced'])\n",
    "            slope_values.append(slope)\n",
    "    box = ax.get_position()\n",
    "    ax.set_position([box.x0, box.y0, box.width * 0.8, box.height])\n",
    "    plt.title(\"MSD of PTB7 temperatures at %sden\" % (job.sp['density']))\n",
    "    plt.xlabel(\"timestep\", fontsize=14)\n",
    "    plt.ylabel(\"msd\", fontsize=14)\n",
    "    ax.legend(loc='center left', bbox_to_anchor=(1, 0.5))\n",
    "    handles,labels = ax.get_legend_handles_labels()\n",
    "    as_float = [float(i) for i in labels]\n",
    "    order = np.argsort(as_float)\n",
    "    handles = [handles[i] for i in order]\n",
    "    labels = [labels[i] for i in order]\n",
    "    ax.legend(handles,labels,loc=2)\n",
    "    plt.show()\n",
    "\n",
    "#constant temperature of msd.log\n",
    "def msd_constant_temperature(kT_reduced, den_min, den_max, polymer_length=None):\n",
    "    state_dict = {\"size\": \"small\",\n",
    "                  \"process\": \"quench\",\n",
    "                  \"kT_reduced\":kT_reduced,\n",
    "                  \"molecule\":\"PTB7_{}mer_smiles\"}\n",
    "    if polymer_length:\n",
    "        state_dict[\"molecule\"] = \"PTB7_{}mer_smiles\".format(polymer_length)\n",
    "    job_list = project.find_jobs(state_dict)\n",
    "    slope_values = []\n",
    "    fig = plt.figure()\n",
    "    ax = plt.subplot(111)\n",
    "    for job in job_list:\n",
    "        if den_min <= job.sp['density'] <= den_max:\n",
    "            x, y, slope = msd_slope(job)\n",
    "            ax.plot(x, y, label=job.sp['density'])\n",
    "            slope_values.append(slope)\n",
    "    box = ax.get_position()\n",
    "    ax.set_position([box.x0, box.y0, box.width * 0.8, box.height])\n",
    "    plt.title(\"MSD of PTB7 densities at %skT\" % (job.sp['kT_reduced']))\n",
    "    plt.xlabel(\"timestep\", fontsize=14)\n",
    "    plt.ylabel(\"msd\", fontsize=14)\n",
    "    ax.legend(loc='center left', bbox_to_anchor=(1, 0.5))\n",
    "    handles,labels = ax.get_legend_handles_labels()\n",
    "    as_float = [float(i) for i in labels]\n",
    "    order = np.argsort(as_float)\n",
    "    handles = [handles[i] for i in order]\n",
    "    labels = [labels[i] for i in order]\n",
    "    ax.legend(handles,labels,loc=2)\n",
    "    plt.show()\n",
    "    \n",
    "def msd_from_gsd(gsdfile, start=-30, stop=-1, atom_type='ss', msd_mode = \"window\"):\n",
    "    f = gsd.pygsd.GSDFile(open(gsdfile, \"rb\"))\n",
    "    trajectory = gsd.hoomd.HOOMDTrajectory(f)\n",
    "    positions = []\n",
    "    for frame in trajectory[start:stop]:\n",
    "        if atom_type == 'all':\n",
    "            atom_positions = frame.particles.position[:]\n",
    "        else:\n",
    "            atom_positions = atom_type_pos(frame, atom_type)\n",
    "        positions.append(atom_positions)\n",
    "    msd = freud.msd.MSD(box=trajectory[-1].configuration.box, mode=msd_mode)\n",
    "    msd.compute(positions)\n",
    "    f.close()\n",
    "    return(msd.msd) # This is retruning an array of numbers (the y-axis on the msd plot)"
   ]
  },
  {
   "cell_type": "markdown",
   "metadata": {},
   "source": [
    "# MSD plots for msd.log files"
   ]
  },
  {
   "cell_type": "markdown",
   "metadata": {},
   "source": [
    "#### constant density plot"
   ]
  },
  {
   "cell_type": "code",
   "execution_count": null,
   "metadata": {},
   "outputs": [],
   "source": [
    "msd_constant_density(density=1.0,\n",
    "                      polymer_length=5,\n",
    "                      temp_min=0.8,\n",
    "                      temp_max=1.0)"
   ]
  },
  {
   "cell_type": "markdown",
   "metadata": {},
   "source": [
    "#### constant temperature plot"
   ]
  },
  {
   "cell_type": "code",
   "execution_count": null,
   "metadata": {},
   "outputs": [],
   "source": [
    "msd_constant_temperature(kT_reduced=0.9,\n",
    "                      polymer_length=5,\n",
    "                      den_min=1.0,\n",
    "                      den_max=1.2)"
   ]
  },
  {
   "cell_type": "markdown",
   "metadata": {},
   "source": [
    "# MSD plots for trajectory.gsd files"
   ]
  },
  {
   "cell_type": "markdown",
   "metadata": {},
   "source": [
    "#### constant density"
   ]
  },
  {
   "cell_type": "code",
   "execution_count": null,
   "metadata": {},
   "outputs": [],
   "source": [
    "project = signac.get_project(\"ptb7-project\")\n",
    "state_dict = {\"size\": \"small\",\n",
    "             \"density\": 0.9,\n",
    "             \"molecule\": \"PTB7_5mer_smiles\",\n",
    "             \"process\": \"quench\"}\n",
    "state_dict['density.$lt'] = 1.3\n",
    "\n",
    "\n",
    "job_list = project.find_jobs(state_dict)\n",
    "fig = plt.figure()\n",
    "ax = plt.subplot(111)\n",
    "color = plt.cm.coolwarm(np.linspace(0, 1, len(job_list)))\n",
    "mpl.rcParams['axes.prop_cycle'] = cycler.cycler('color', color)\n",
    "for kT,job in job_list.groupby('kT_reduced'):\n",
    "    job = list(job)[0]\n",
    "    msd = msd_from_gsd(job.fn('trajectory.gsd'), atom_type='ss')\n",
    "    plt.plot(msd, label=job.sp['kT_reduced'])\n",
    "    \n",
    "\n",
    "plt.title(\"MSD of PTB7 temperatures at %sden\" % (job.sp['density']))\n",
    "plt.xlabel(\"frame\", fontsize=14)\n",
    "plt.ylabel(\"msd\", fontsize=14)\n",
    "ax.legend(loc='center left', bbox_to_anchor=(1, 0.5), ncol=2)\n",
    "plt.show()"
   ]
  },
  {
   "cell_type": "markdown",
   "metadata": {},
   "source": [
    "#### constant temperature"
   ]
  },
  {
   "cell_type": "code",
   "execution_count": null,
   "metadata": {},
   "outputs": [],
   "source": [
    "project = signac.get_project(\"ptb7-project\")\n",
    "state_dict = {\"size\": \"small\",\n",
    "             \"kT_reduced\": 1.3,\n",
    "             \"molecule\": \"PTB7_5mer_smiles\",\n",
    "             \"process\": \"quench\"}\n",
    "state_dict['kT_reduced.$lt'] = 2.5\n",
    "\n",
    "\n",
    "job_list = project.find_jobs(state_dict)\n",
    "fig = plt.figure()\n",
    "ax = plt.subplot(111)\n",
    "color = plt.cm.coolwarm(np.linspace(0, 1, len(job_list)))\n",
    "mpl.rcParams['axes.prop_cycle'] = cycler.cycler('color', color)\n",
    "for den,job in job_list.groupby('density'):\n",
    "    job = list(job)[0]\n",
    "    msd = msd_from_gsd(job.fn('trajectory.gsd'), atom_type='ss')\n",
    "    plt.plot(msd, label=den)\n",
    "\n",
    "plt.title(\"MSD of PTB7 densities at %skT\" % (job.sp['kT_reduced']))\n",
    "plt.xlabel(\"frame\", fontsize=14)\n",
    "plt.ylabel(\"msd\", fontsize=14)\n",
    "ax.legend(loc='center left', bbox_to_anchor=(1, 0.5), ncol=1)\n",
    "plt.show()"
   ]
  },
  {
   "cell_type": "markdown",
   "metadata": {},
   "source": [
    "### Slopes"
   ]
  },
  {
   "cell_type": "code",
   "execution_count": 25,
   "metadata": {},
   "outputs": [],
   "source": [
    "def msd_from_gsd(gsdfile, start=-30, stop=-1, atom_type='ss', msd_mode = \"window\"):\n",
    "    f = gsd.pygsd.GSDFile(open(gsdfile, \"rb\"))\n",
    "    trajectory = gsd.hoomd.HOOMDTrajectory(f)\n",
    "    positions = []\n",
    "    for frame in trajectory[start:stop]:\n",
    "        if atom_type == 'all':\n",
    "            atom_positions = frame.particles.position[:]\n",
    "        else:\n",
    "            atom_positions = atom_type_pos(frame, atom_type)\n",
    "        positions.append(atom_positions)\n",
    "    msd = freud.msd.MSD(box=trajectory[-1].configuration.box, mode=msd_mode)\n",
    "    msd.compute(positions)\n",
    "    f.close()\n",
    "    return(msd.msd) "
   ]
  },
  {
   "cell_type": "code",
   "execution_count": 26,
   "metadata": {},
   "outputs": [],
   "source": [
    "project = signac.get_project(\"ptb7-project\")\n",
    "state_dict = {'size': 'small', 'process': 'quench'}\n",
    "job_list = project.find_jobs(state_dict)\n",
    "for job in job_list:\n",
    "    msd = msd_from_gsd(job.fn('trajectory.gsd'))\n",
    "    y = msd[-15:]\n",
    "    x = range(len(y))\n",
    "    slope, intercept, r_value, p_value, std_err = linregress(x, y)\n",
    "    job.doc['msd_slope'] = slope\n",
    "    job.doc['msd_slope_r2'] = r_value "
   ]
  },
  {
   "cell_type": "code",
   "execution_count": null,
   "metadata": {},
   "outputs": [],
   "source": [
    "print(job.doc)\n"
   ]
  },
  {
   "cell_type": "markdown",
   "metadata": {},
   "source": [
    "## Temp v Slope plots"
   ]
  },
  {
   "cell_type": "code",
   "execution_count": 29,
   "metadata": {},
   "outputs": [
    {
     "data": {
      "image/png": "[encoded data removed]",
      "text/plain": [
       "<Figure size 432x288 with 1 Axes>"
      ]
     },
     "metadata": {
      "needs_background": "light"
     },
     "output_type": "display_data"
    }
   ],
   "source": [
    "state_dict = {'size': 'small', 'process': 'quench', \"density\": 0.8, \"molecule\":\"PTB7_5mer_smiles\" }\n",
    "job_list = project.find_jobs(state_dict)\n",
    "fig = plt.figure()\n",
    "ax = plt.subplot(111)\n",
    "project = signac.get_project(\"ptb7-project\")\n",
    "state_dict['density.$lt'] = 1.3\n",
    "for idx,job in enumerate(job_list):\n",
    "    msd = msd_from_gsd(job.fn('trajectory.gsd'))\n",
    "    slope = job.doc['msd_slope']\n",
    "    x2=job.sp[\"kT_reduced\"]\n",
    "    y2=slope\n",
    "    if x2 == 0.8:\n",
    "        col = ['#00004C']\n",
    "    if x2 == 0.9:\n",
    "        col = ['#000079']\n",
    "    if x2 == 1.0:\n",
    "        col = ['#0000A6']\n",
    "    if x2 == 1.1:\n",
    "        col = ['#0000D2']\n",
    "    if x2 == 1.2:\n",
    "        col = ['#0000FF']\n",
    "    if x2 == 1.3:\n",
    "        col = ['#4040FF']\n",
    "    if x2 == 1.4:\n",
    "        col = ['#8080FF']\n",
    "    if x2 == 1.5:\n",
    "        col = ['#BFBFFF']\n",
    "    if x2 == 1.6:\n",
    "        col = ['#DBD9D9']\n",
    "    if x2 == 1.7:\n",
    "        col = ['#FFBFBF']\n",
    "    if x2 == 1.8:\n",
    "        col = ['#FF8080']\n",
    "    if x2 == 1.9:\n",
    "        col = ['#FF4040']\n",
    "    if x2 == 2.0:\n",
    "        col = ['#FF0000']\n",
    "    if x2 == 2.1:\n",
    "        col = ['#DF0000']\n",
    "    if x2 == 2.2:\n",
    "        col = ['#BF0000']\n",
    "    if x2 == 2.3:\n",
    "        col = ['#9F0000']\n",
    "    if x2 == 2.4:\n",
    "        col = ['#800000']\n",
    "    plt.ylim(0, 6)\n",
    "    plt.scatter(x2,y2, color = col)\n",
    "    ax.minorticks_on()\n",
    "    ax.tick_params(axis='both', which='both', direction='in', labelsize=10)\n",
    "plt.title(\"Slope vs. Temperature(kT) of 5mer at %sden\" % (job.sp['density']))\n",
    "plt.xlabel(\"Temperature(kT)\", fontsize=12)\n",
    "plt.ylabel(\"Slope\", fontsize=12)\n",
    "plt.show()"
   ]
  },
  {
   "cell_type": "markdown",
   "metadata": {},
   "source": [
    "## Notes"
   ]
  },
  {
   "cell_type": "markdown",
   "metadata": {},
   "source": []
  },
  {
   "cell_type": "code",
   "execution_count": null,
   "metadata": {},
   "outputs": [],
   "source": [
    "'''OBSERVATIONS \n",
    "\n",
    "At 0.6den:\n",
    "Lower temp = lower msd\n",
    "1.3kT has significantly different(higher) MSD at 0.6den\n",
    "\n",
    "At 0.7den:\n",
    "Lower temp = lower msd\n",
    "1.3kT and 1.2kT msds are very similar at 0.7den \n",
    "\n",
    "At 0.8den:\n",
    "1.4kT MSD shows up at 0.8den, weird.\n",
    "These plots are kind of all over the place. 1.2kT with highest slope/msd. 0.9kT and 1.1kT with similar msds.\n",
    "\n",
    "At 0.9den:\n",
    "Lower temp = lower msd(kind of)\n",
    "The grouped temps have lower temp on tomp of higher temp\n",
    "1.4kT and 1.3kT identical, 1.0kT and 1.1kT identical, 0.8kT and 0.9kT identical, and 1.2kT solo.\n",
    "\n",
    "At 1.0den:\n",
    "Lower temp = lower msd(kind of)\n",
    "1.2kT, 1.3kT, 1.4kT clumped together but 1.3kT is on top\n",
    "0.9kT and 1.0kT indentical both taking turns but 0.9kT is on top\n",
    "\n",
    "At 1.1den:\n",
    "Lower temp = lower msd(with one exception)\n",
    "1.3kT higher msd than 1.4kT\n",
    "\n",
    "At 1.2den:\n",
    "Lower temp = lower msd(until after 1.1kT)\n",
    "Then order of least to greatest goes: 1.4kT, 1.2kT, 1.3kT(top)\n",
    "'''"
   ]
  }
 ],
 "metadata": {
  "kernelspec": {
   "display_name": "Python 3",
   "language": "python",
   "name": "python3"
  },
  "language_info": {
   "codemirror_mode": {
    "name": "ipython",
    "version": 3
   },
   "file_extension": ".py",
   "mimetype": "text/x-python",
   "name": "python",
   "nbconvert_exporter": "python",
   "pygments_lexer": "ipython3",
   "version": "3.7.6"
  }
 },
 "nbformat": 4,
 "nbformat_minor": 4
}
