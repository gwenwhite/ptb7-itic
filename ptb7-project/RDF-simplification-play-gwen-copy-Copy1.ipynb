{
 "cells": [
  {
   "cell_type": "code",
   "execution_count": 1,
   "metadata": {},
   "outputs": [],
   "source": [
    "import numpy as np\n",
    "import matplotlib.pyplot as plt\n",
    "import freud\n",
    "import signac\n",
    "import gsd\n",
    "import hoomd\n",
    "import gsd.pygsd\n",
    "import gsd.hoomd\n",
    "import scipy\n",
    "from scipy import signal\n",
    "import time\n",
    "import os\n",
    "from scipy.stats import linregress"
   ]
  },
  {
   "cell_type": "code",
   "execution_count": 2,
   "metadata": {},
   "outputs": [],
   "source": [
    "data_path = \"/home/gwenwhite/cmelab/ptb7-itic/ptb7-project/\"\n",
    "project = signac.get_project(data_path)"
   ]
  },
  {
   "cell_type": "code",
   "execution_count": 3,
   "metadata": {},
   "outputs": [],
   "source": [
    "state_dict={\"size\": \"small\", \n",
    "            \"process\": \"quench\",\n",
    "            \"kT_reduced\":0.8, \n",
    "            \"density\":0.6}\n",
    "\n",
    "job_list= project.find_jobs(state_dict)\n",
    "#specify file type\n",
    "for job in job_list:\n",
    "    msd_path= job.fn('msd.log')\n",
    "    rdf_path= job.fn('trajectory.gsd')\n",
    "    "
   ]
  },
  {
   "cell_type": "code",
   "execution_count": null,
   "metadata": {},
   "outputs": [],
   "source": []
  },
  {
   "cell_type": "code",
   "execution_count": 4,
   "metadata": {},
   "outputs": [],
   "source": [
    "def atom_type_pos(frame, atom_types): \n",
    "    positions = []\n",
    "    for idx, type_id in enumerate(frame.particles.typeid):\n",
    "        if frame.particles.types[type_id] in atom_types:\n",
    "            positions.append(frame.particles.position[idx])\n",
    "    return positions\n",
    "\n",
    "\n",
    "def rdf_from_gsd(rdf_path, \n",
    "                 atom_types='all', \n",
    "                 r_max = None, \n",
    "                 r_min= 0.1, \n",
    "                 nbins= 50, \n",
    "                 start= 95):\n",
    "    \n",
    "    try: \n",
    "        f = gsd.pygsd.GSDFile(open(rdf_path, \"rb\"))\n",
    "    except PermissionError:\n",
    "        print(\"problem with\", rdf_path)\n",
    "        return None\n",
    "    trajectory = gsd.hoomd.HOOMDTrajectory(f)\n",
    "    if r_max is None:\n",
    "        r_max = max(trajectory[-1].configuration.box[:3]) * 0.45\n",
    "    freud_rdf = freud.density.RDF(bins=nbins, r_max=r_max, r_min=r_min)\n",
    "    if len(trajectory[start:]) <1: \n",
    "        print('two fewer frames')\n",
    "        return None\n",
    "    for frame in trajectory[start:-10]:\n",
    "        if atom_types == 'all':\n",
    "            freud_rdf.compute(frame, reset=False)\n",
    "        else:\n",
    "            query_points = atom_type_pos(frame, atom_types)\n",
    "            box = frame.configuration.box\n",
    "            freud_rdf.compute(system=(box, query_points), reset=False)\n",
    "            \n",
    "    x = freud_rdf.bin_centers\n",
    "    y = freud_rdf.rdf\n",
    "    #Be aware of atom type naming with multiple atom types in function\n",
    "    filename = job.fn('{}-trajectory-gwen.txt'.format(atom_types[0]))\n",
    "    np.savetxt(filename, np.transpose([x,y]), delimiter=',', header= \"bin_centers, rdf\")\n",
    "    f.close()\n",
    "    #print(\"it worked\")\n",
    "    return freud_rdf\n",
    "\n",
    "def msd_slope(job_list, step_size = 2, atom_types='all'):  \n",
    "    msd = np.genfromtxt(job_list, names=True, delimiter=\"\\t\")\n",
    "    x = msd['timestep'][-3000::step_size]\n",
    "    y = msd[atom_types][-3000::step_size]\n",
    "    slope, intercept, r_value, p_value, std_err = linregress(x, y)\n",
    "    plt.plot(x, y)\n",
    "    plt.plot(x, x*slope + intercept, linestyle = 'dotted')\n",
    "    plt.xlabel(\"timestep\", fontsize=14)\n",
    "    plt.ylabel(\"msd\", fontsize=14)\n",
    "    plt.show()         \n",
    "    return x, y, slope, intercept\n",
    "    "
   ]
  },
  {
   "cell_type": "code",
   "execution_count": 11,
   "metadata": {},
   "outputs": [],
   "source": [
    "def msd_analysis(job_list):\n",
    "    for job in job_list:\n",
    "        if msd_path:\n",
    "            x, y, slope, intercept = msd_slope(msd_path)\n",
    "\n",
    "def rdf_analysis(job_list):\n",
    "    for job in job_list:\n",
    "        #print(job)\n",
    "        rdf_path= job.fn('trajectory.gsd')\n",
    "        rdf_from_gsd(rdf_path, atom_types= ['f'], start =0)\n",
    "        txt_path= job.fn('f-trajectory-gwen.txt')\n",
    "    line= np.genfromtxt(txt_path, names=True, delimiter=\",\")\n",
    "    x= line[\"bin_centers\"]\n",
    "    y= line[\"rdf\"]\n",
    "    plt.xlabel(\"bin_centers\", fontsize=14)\n",
    "    plt.ylabel(\"rdf\", fontsize=14)\n",
    "    plt.plot(x, y)"
   ]
  },
  {
   "cell_type": "code",
   "execution_count": 12,
   "metadata": {
    "scrolled": false
   },
   "outputs": [
    {
     "data": {
      "image/png": "[encoded data removed]",
      "text/plain": [
       "<Figure size 432x288 with 1 Axes>"
      ]
     },
     "metadata": {
      "needs_background": "light"
     },
     "output_type": "display_data"
    }
   ],
   "source": [
    "rdf_analysis(job_list)\n"
   ]
  },
  {
   "cell_type": "code",
   "execution_count": null,
   "metadata": {},
   "outputs": [],
   "source": [
    "\n",
    "    "
   ]
  }
 ],
 "metadata": {
  "kernelspec": {
   "display_name": "Python 3",
   "language": "python",
   "name": "python3"
  },
  "language_info": {
   "codemirror_mode": {
    "name": "ipython",
    "version": 3
   },
   "file_extension": ".py",
   "mimetype": "text/x-python",
   "name": "python",
   "nbconvert_exporter": "python",
   "pygments_lexer": "ipython3",
   "version": "3.7.6"
  }
 },
 "nbformat": 4,
 "nbformat_minor": 4
}
