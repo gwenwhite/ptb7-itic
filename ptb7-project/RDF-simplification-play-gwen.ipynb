{
 "cells": [
  {
   "cell_type": "code",
   "execution_count": 1,
   "metadata": {},
   "outputs": [],
   "source": [
    "import numpy as np\n",
    "import matplotlib.pyplot as plt\n",
    "import freud\n",
    "import signac\n",
    "import gsd\n",
    "import hoomd\n",
    "import gsd.pygsd\n",
    "import gsd.hoomd\n",
    "import scipy\n",
    "from scipy import signal\n",
    "import time\n",
    "import os\n",
    "from scipy.stats import linregress"
   ]
  },
  {
   "cell_type": "code",
   "execution_count": 2,
   "metadata": {},
   "outputs": [],
   "source": [
    "#ptb7_proj = signac.get_project(\"ptb7-project\")\n",
    "#itic_proj = signac.get_project(\"itic-project\")\n",
    "data_path = \"/home/gwenwhite/cmelab/ptb7-itic/ptb7-project\"\n",
    "project = signac.get_project(data_path)"
   ]
  },
  {
   "cell_type": "code",
   "execution_count": 12,
   "metadata": {},
   "outputs": [],
   "source": [
    "def atom_type_pos(frame, atom_types): \n",
    "    positions = []\n",
    "    for idx, type_id in enumerate(frame.particles.typeid):\n",
    "        if frame.particles.types[type_id] in atom_types:\n",
    "            positions.append(frame.particles.position[idx])\n",
    "    return positions\n",
    "\n",
    "\n",
    "def rdf_from_gsd(job, atom_types='all', r_max=5, r_min=0.5, nbins=50, start=100):\n",
    "    gsd_file = \"{}/trajectory.gsd\".format(job.workspace())\n",
    "    f = gsd.pygsd.GSDFile(open(gsd_file, \"rb\"))\n",
    "    trajectory = gsd.hoomd.HOOMDTrajectory(f)\n",
    "    \n",
    "    if r_max is None:\n",
    "        r_max = max(trajectory[-1].configuration.box[:3]) * 0.45\n",
    "    freud_rdf = freud.density.RDF(bins=nbins, r_max=r_max, r_min=r_min)\n",
    "    for frame in trajectory[start:]:\n",
    "        if atom_types == 'all':\n",
    "            freud_rdf.compute(frame, reset=False)\n",
    "        else:\n",
    "            query_points = atom_type_pos(frame, atom_types)\n",
    "            box = frame.configuration.box\n",
    "            freud_rdf.compute(system=(box, query_points), reset=False)\n",
    "    f.close()\n",
    "    return freud_rdf\n",
    "\n",
    "def msd_slope(data_path, step_size = 2, atom_types='all'):  \n",
    "    msd = np.genfromtxt(data_path, names=True, delimiter=\"\\t\")\n",
    "    x = msd['timestep'][-3000::step_size]\n",
    "    y = msd[atom_types][-3000::step_size]\n",
    "    slope, intercept, r_value, p_value, std_err = linregress(x, y)\n",
    "    plt.plot(x, y)\n",
    "    plt.plot(x, x*slope + intercept, linestyle = 'dotted')\n",
    "    plt.show()         \n",
    "    return x, y, slope, intercept\n",
    "    "
   ]
  },
  {
   "cell_type": "code",
   "execution_count": null,
   "metadata": {},
   "outputs": [],
   "source": [
    "def get_rdf_data(file, rdf_type):\n",
    "    data = np.genfromtxt(file, names=True, delimiter=',')\n",
    "    x = data['{}_x'.format(rdf_type)]\n",
    "    y = data['{}_y'.format(rdf_type)]\n",
    "    return x,y\n",
    "\n",
    "def get_msd_data(file, rdf_type):\n",
    "    data = np.genfromtxt(file, names=True, delimiter=\",\")\n",
    "    x = data['{}_x'.format(msd_type)]\n",
    "    y = data['{}_y'.format(msd_type)]\n",
    "    return x,y\n",
    "\n",
    "\n",
    "def data_analysis(jobs, analysis_type):\n",
    "    for job in jobs:\n",
    "        job_path= job.workspace(filter= state_dict)\n",
    "        if not job.isfile('rdf-data.txt'):\n",
    "            rdf_results= rdf_from_gsd(job)\n",
    "            x = rdf_results.bin_centers\n",
    "            y = rdf_results.rdf\n",
    "            txt_file = \"{}/rdf-data.txt\".format(job.workspace())  \n",
    "            np.savetxt(txt_file, np.transpose([x,y]), delimiter=',', header= \"bin_centers, rdf\")"
   ]
  },
  {
   "cell_type": "code",
   "execution_count": 13,
   "metadata": {},
   "outputs": [
    {
     "data": {
      "image/png": "[encoded data removed]",
      "text/plain": [
       "<Figure size 432x288 with 1 Axes>"
      ]
     },
     "metadata": {
      "needs_background": "light"
     },
     "output_type": "display_data"
    }
   ],
   "source": [
    "data_path= \"/home/gwenwhite/cmelab/ptb7-itic/ptb7-project/workspace/fe36ee4052a01cae041ef5988477de10/msd.log\"\n",
    "x, y, slope, intercept = msd_slope(data_path)"
   ]
  },
  {
   "cell_type": "code",
   "execution_count": 7,
   "metadata": {},
   "outputs": [],
   "source": [
    "\n"
   ]
  },
  {
   "cell_type": "code",
   "execution_count": 8,
   "metadata": {},
   "outputs": [],
   "source": [
    "def get_rdf_data(file, rdf_type):\n",
    "    data = np.genfromtxt(file, names=True, delimiter=',')\n",
    "    x = data['{}_x'.format(rdf_type)]\n",
    "    y = data['{}_y'.format(rdf_type)]\n",
    "    return x,y\n",
    "\n",
    "def get_msd_data(file, rdf_type):\n",
    "    data = np.genfromtxt(file, names=True, delimiter=\",\")\n",
    "    x = data['{}_x'.format(msd_type)]\n",
    "    y = data['{}_y'.format(msd_type)]\n",
    "    return x,y\n",
    "\n",
    "\n",
    "def data_analysis(jobs, analysis_type):\n",
    "    for job in jobs:\n",
    "        job_path= job.workspace(filter= state_dict)\n",
    "        if not job.isfile('rdf-data.txt'):\n",
    "            rdf_results= rdf_from_gsd(job)\n",
    "            x = rdf_results.bin_centers\n",
    "            y = rdf_results.rdf\n",
    "            txt_file = \"{}/rdf-data.txt\".format(job.workspace())  \n",
    "            np.savetxt(txt_file, np.transpose([x,y]), delimiter=',', header= \"bin_centers, rdf\")"
   ]
  },
  {
   "cell_type": "code",
   "execution_count": null,
   "metadata": {},
   "outputs": [],
   "source": [
    "state_dict={\"size\": \"small\", \"process\": \"quench\", \"molecule\": 10}\n",
    "job_list= project.find_jobs(state_dict)"
   ]
  },
  {
   "cell_type": "code",
   "execution_count": null,
   "metadata": {},
   "outputs": [],
   "source": []
  },
  {
   "cell_type": "code",
   "execution_count": null,
   "metadata": {},
   "outputs": [],
   "source": []
  }
 ],
 "metadata": {
  "kernelspec": {
   "display_name": "Python 3",
   "language": "python",
   "name": "python3"
  },
  "language_info": {
   "codemirror_mode": {
    "name": "ipython",
    "version": 3
   },
   "file_extension": ".py",
   "mimetype": "text/x-python",
   "name": "python",
   "nbconvert_exporter": "python",
   "pygments_lexer": "ipython3",
   "version": "3.7.6"
  }
 },
 "nbformat": 4,
 "nbformat_minor": 4
}
