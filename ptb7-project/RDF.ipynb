{
 "cells": [
  {
   "cell_type": "code",
   "execution_count": 1,
   "metadata": {},
   "outputs": [],
   "source": [
    "import numpy as np\n",
    "import matplotlib.pyplot as plt\n",
    "import freud\n",
    "import signac\n",
    "import gsd\n",
    "import hoomd\n",
    "import gsd.pygsd\n",
    "import gsd.hoomd\n",
    "import scipy\n",
    "from scipy import signal\n",
    "import time\n",
    "import os\n",
    "from scipy.stats import linregress\n",
    "from scipy.sparse import csr_matrix\n",
    "from scipy.sparse.csgraph import connected_components"
   ]
  },
  {
   "cell_type": "code",
   "execution_count": 2,
   "metadata": {},
   "outputs": [],
   "source": [
    "data_path = \"/home/gwenwhite/cmelab/ptb7-itic/ptb7-project/\"\n",
    "project = signac.get_project(data_path)"
   ]
  },
  {
   "cell_type": "code",
   "execution_count": 3,
   "metadata": {},
   "outputs": [],
   "source": [
    "state_dict={\"size\": \"small\", \n",
    "            \"process\": \"quench\",\n",
    "            \"kT_reduced\":1.0, \n",
    "            \"density\":0.6}\n",
    "\n",
    "job_list= project.find_jobs(state_dict)\n",
    "#specify file type\n",
    "for job in job_list:\n",
    "    msd_path= job.fn('msd.log')\n",
    "    rdf_path= job.fn('trajectory.gsd')\n",
    "    "
   ]
  },
  {
   "cell_type": "code",
   "execution_count": 4,
   "metadata": {},
   "outputs": [
    {
     "name": "stdout",
     "output_type": "stream",
     "text": [
      "{'molecule': 'PTB7_15mer_smiles', 'n_compounds': 66, 'density': 0.6, 'e_factor': 0.5, 'kT_reduced': 1.0, 'tau': 1, 'n_steps': 100000000.0, 'dt': 0.001, 'remove_hydrogens': True, 'original_id': '45efe6231f0c29cdafee760626af5791', 'size': 'small', 'process': 'quench'}\n"
     ]
    }
   ],
   "source": [
    "print(job.statepoint)"
   ]
  },
  {
   "cell_type": "code",
   "execution_count": 5,
   "metadata": {},
   "outputs": [],
   "source": [
    "def atom_type_pos(frame, atom_types): \n",
    "    positions = []\n",
    "    for idx, type_id in enumerate(frame.particles.typeid):\n",
    "        if frame.particles.types[type_id] in atom_types:\n",
    "            positions.append(frame.particles.position[idx])\n",
    "    return positions\n",
    "\n",
    "\n",
    "def rdf_from_gsd(rdf_path, \n",
    "                 atom_types='all', \n",
    "                 r_max = None, \n",
    "                 r_min= 0.1, \n",
    "                 nbins= 50, \n",
    "                 start= 95):\n",
    "    \n",
    "    try: \n",
    "        f = gsd.pygsd.GSDFile(open(rdf_path, \"rb\"))\n",
    "    except PermissionError:\n",
    "        print(\"problem with\", rdf_path)\n",
    "        return None\n",
    "    trajectory = gsd.hoomd.HOOMDTrajectory(f)\n",
    "    if r_max is None:\n",
    "        r_max = max(trajectory[-1].configuration.box[:3]) * 0.45\n",
    "    freud_rdf = freud.density.RDF(bins=nbins, r_max=r_max, r_min=r_min)\n",
    "    if len(trajectory[start:]) <1: \n",
    "        print('two fewer frames')\n",
    "        return None\n",
    "    for frame in trajectory[start:-10]:\n",
    "        if atom_types == 'all':\n",
    "            freud_rdf.compute(frame, reset=False)\n",
    "        else:\n",
    "            query_points = atom_type_pos(frame, atom_types)\n",
    "            box = frame.configuration.box\n",
    "            freud_rdf.compute(system=(box, query_points), reset=False)\n",
    "            \n",
    "    x = freud_rdf.bin_centers\n",
    "    y = freud_rdf.rdf\n",
    "    #Be aware of atom type naming with multiple atom types in function\n",
    "    filename = job.fn('{}-trajectory-gwen.txt'.format(atom_types[0]))\n",
    "    np.savetxt(filename, np.transpose([x,y]), delimiter=',', header= \"bin_centers, rdf\")\n",
    "    f.close()\n",
    "    #print(\"it worked\")\n",
    "    return freud_rdf\n",
    "\n",
    "def msd_slope(job_list, step_size = 2, atom_types='all'):  \n",
    "    msd = np.genfromtxt(job_list, names=True, delimiter=\"\\t\")\n",
    "    x = msd['timestep'][-3000::step_size]\n",
    "    y = msd[atom_types][-3000::step_size]\n",
    "    slope, intercept, r_value, p_value, std_err = linregress(x, y)\n",
    "    plt.plot(x, y, label= \"PTB7\")\n",
    "    plt.plot(x, x*slope + intercept, linestyle = 'dotted', label= \"slope\" )\n",
    "    plt.title(\"MSD of PTB7 at %skT %sden\" % ( job.sp['kT_reduced'], job.sp['density']))\n",
    "    plt.xlabel(\"timestep\", fontsize=14)\n",
    "    plt.ylabel(\"msd\", fontsize=14)\n",
    "    plt.legend(loc=\"lower right\")\n",
    "    plt.show()\n",
    "    #plt.savefig('msd_ptb7_0.6den_0.8kT.pdf')\n",
    "    return x, y, slope, intercept\n",
    "    "
   ]
  },
  {
   "cell_type": "code",
   "execution_count": 6,
   "metadata": {},
   "outputs": [],
   "source": [
    "def msd_analysis(job_list):\n",
    "    for job in job_list:\n",
    "        if msd_path:\n",
    "            x, y, slope, intercept = msd_slope(msd_path)\n",
    "            \n",
    "\n",
    "def rdf_analysis(job_list):\n",
    "    for job in job_list:\n",
    "        rdf_path= job.fn('trajectory.gsd')\n",
    "        rdf_from_gsd(rdf_path, atom_types= ['f'], start =0)\n",
    "        txt_path= job.fn('f-trajectory-gwen.txt')\n",
    "    line= np.genfromtxt(txt_path, names=True, delimiter=\",\")\n",
    "    x= line[\"bin_centers\"]\n",
    "    y= line[\"rdf\"]\n",
    "    plt.title(\"PTB7 fluorine at %skT %sden\" % (job.sp['kT_reduced'], job.sp['density']), fontsize=16)\n",
    "    plt.xlabel(\"distance r (A.U.)\", fontsize=14)\n",
    "    plt.ylabel(\"G(r)\", fontsize=14)\n",
    "    plt.plot(x, y)"
   ]
  },
  {
   "cell_type": "code",
   "execution_count": 7,
   "metadata": {
    "scrolled": false
   },
   "outputs": [
    {
     "data": {
      "image/png": "[encoded data removed]",
      "text/plain": [
       "<Figure size 432x288 with 1 Axes>"
      ]
     },
     "metadata": {
      "needs_background": "light"
     },
     "output_type": "display_data"
    }
   ],
   "source": [
    "rdf_analysis(job_list)\n"
   ]
  },
  {
   "cell_type": "code",
   "execution_count": 8,
   "metadata": {},
   "outputs": [
    {
     "name": "stdout",
     "output_type": "stream",
     "text": [
      "099207e44e80f9d76633de46287ad497\n"
     ]
    }
   ],
   "source": [
    "print(job)"
   ]
  },
  {
   "cell_type": "markdown",
   "metadata": {},
   "source": [
    "### RDF that ignores intra-chain correlations"
   ]
  },
  {
   "cell_type": "code",
   "execution_count": 9,
   "metadata": {},
   "outputs": [],
   "source": [
    "def frame_get_type_position(gsdfile, typename, frame=-1):\n",
    "    with gsd.hoomd.open(name=gsdfile, mode='rb') as f:\n",
    "        snap = f[frame]\n",
    "    typepos = snap.particles.position[\n",
    "            snap.particles.typeid == snap.particles.types.index(typename)\n",
    "            ]\n",
    "    return typepos\n",
    "\n",
    "\n",
    "def snap_bond_graph(snap):\n",
    "    bond_graph = csr_matrix(\n",
    "        (np.ones(snap.bonds.N), (snap.bonds.group[:, 0], snap.bonds.group[:, 1])),\n",
    "        shape=(snap.particles.N, snap.particles.N),\n",
    "    )\n",
    "    n_components, labels = connected_components(csgraph=bond_graph, directed=False)\n",
    "    return labels\n",
    "\n",
    "\n",
    "def gsd_rdf(\n",
    "    rdf_path,\n",
    "    A_name,\n",
    "    B_name,\n",
    "    start=0,\n",
    "    stop=None,\n",
    "    rmax=None,\n",
    "    rmin=0,\n",
    "    bins=50,\n",
    "    exclude_bonded=True):\n",
    "    \n",
    "    with gsd.hoomd.open(rdf_path) as t:\n",
    "        snap = t[0]\n",
    "\n",
    "        if rmax is None:\n",
    "            rmax = max(snap.configuration.box[:3]) * 0.45\n",
    "\n",
    "        rdf = freud.density.RDF(bins=bins, r_max=rmax, r_min=rmin)\n",
    "        type_A = snap.particles.typeid == snap.particles.types.index(A_name)\n",
    "        type_B = snap.particles.typeid == snap.particles.types.index(B_name)\n",
    "\n",
    "        if exclude_bonded:\n",
    "            molecules = snap_bond_graph(snap)\n",
    "            molecules_A = molecules[type_A]\n",
    "            molecules_B = molecules[type_B]\n",
    "            \n",
    "        for snap in t[start:stop]:\n",
    "            A_pos = snap.particles.position[type_A]\n",
    "            if A_name != B_name:\n",
    "                B_pos = snap.particles.position[type_B]\n",
    "            else:\n",
    "                B_pos = A_pos\n",
    "\n",
    "            box = snap.configuration.box\n",
    "            system = (box, A_pos)\n",
    "            aq = freud.locality.AABBQuery.from_system(system)\n",
    "            nlist = aq.query(B_pos, {\"r_max\": rmax}).toNeighborList()\n",
    "\n",
    "            if exclude_bonded:\n",
    "                nlist.filter(molecules_A[nlist.point_indices]\n",
    "                             != molecules_B[nlist.query_point_indices])\n",
    "\n",
    "            rdf.compute(aq, neighbors=nlist, reset=False)\n",
    "        return rdf"
   ]
  },
  {
   "cell_type": "code",
   "execution_count": 10,
   "metadata": {},
   "outputs": [
    {
     "data": {
      "image/png": "[encoded data removed]",
      "text/plain": [
       "<Figure size 432x288 with 1 Axes>"
      ]
     },
     "metadata": {
      "needs_background": "light"
     },
     "output_type": "display_data"
    }
   ],
   "source": [
    "gsdfile = rdf_path\n",
    "A_name = \"ss\"\n",
    "B_name = \"ss\"\n",
    "atom= \"sulfur's and carbon\"\n",
    "rdf = gsd_rdf(gsdfile, A_name, B_name, rmin=0.01, rmax=6)\n",
    "\n",
    "plt.plot(rdf.bin_centers, rdf.rdf)\n",
    "plt.xlabel(\"r (A.U.)\")\n",
    "plt.ylabel(\"g(r)\")\n",
    "plt.title(\"PTB7 %s's at %skT %sden\" % (atom, job.sp['kT_reduced'], job.sp['density']), fontsize=16)\n",
    "plt.show()"
   ]
  },
  {
   "cell_type": "markdown",
   "metadata": {},
   "source": [
    "## Comparing Different Compounds"
   ]
  },
  {
   "cell_type": "code",
   "execution_count": 11,
   "metadata": {},
   "outputs": [],
   "source": [
    "ptb7_path = \"/home/gwenwhite/cmelab/ptb7-itic/ptb7-project/\"\n",
    "itic_path = \"/home/erjank_project/itic-project/\"\n",
    "mix_path = \"/home/erjank_project/ptb7-project/ptb7-itic-mix\"\n",
    "ptb7_project = signac.get_project(ptb7_path)\n",
    "itic_project = signac.get_project(itic_path)\n",
    "mix_project = signac.get_project(mix_path)"
   ]
  },
  {
   "cell_type": "code",
   "execution_count": 12,
   "metadata": {},
   "outputs": [],
   "source": [
    "state_dict={\"size\": \"small\", \n",
    "            \"process\": \"quench\",\n",
    "            \"kT_reduced\":1.0, \n",
    "            \"density\":0.9}\n",
    "\n",
    "ptb7_list= ptb7_project.find_jobs(state_dict)\n",
    "itic_list= itic_project.find_jobs(state_dict)\n",
    "mix_list= mix_project.find_jobs(state_dict)\n",
    " \n",
    "for job in ptb7_list:\n",
    "        rdf_path1 = job.fn('trajectory.gsd')\n",
    "for job in itic_list:\n",
    "        rdf_path2 = job.fn('trajectory.gsd')\n",
    "for job in mix_list:\n",
    "        rdf_path3 = job.fn('trajectory.gsd')"
   ]
  },
  {
   "cell_type": "code",
   "execution_count": 13,
   "metadata": {},
   "outputs": [],
   "source": [
    "def frame_get_type_position(gsdfile, typename, frame=-1):\n",
    "    with gsd.hoomd.open(name=gsdfile, mode='rb') as f:\n",
    "        snap = f[frame]\n",
    "    typepos = snap.particles.position[\n",
    "            snap.particles.typeid == snap.particles.types.index(typename)\n",
    "            ]\n",
    "    return typepos\n",
    "\n",
    "\n",
    "def snap_bond_graph(snap):\n",
    "    bond_graph = csr_matrix(\n",
    "        (np.ones(snap.bonds.N), (snap.bonds.group[:, 0], snap.bonds.group[:, 1])),\n",
    "        shape=(snap.particles.N, snap.particles.N),\n",
    "    )\n",
    "    n_components, labels = connected_components(csgraph=bond_graph, directed=False)\n",
    "    return labels\n",
    "\n",
    "\n",
    "def gsd_rdf1(\n",
    "    rdf_path1,\n",
    "    A_name,\n",
    "    B_name,\n",
    "    start=0,\n",
    "    stop=None,\n",
    "    rmax=None,\n",
    "    rmin=0,\n",
    "    bins=50,\n",
    "    exclude_bonded=True):\n",
    "    \n",
    "    with gsd.hoomd.open(rdf_path1) as t:\n",
    "        snap = t[0]\n",
    "\n",
    "        if rmax is None:\n",
    "            rmax = max(snap.configuration.box[:3]) * 0.45\n",
    "\n",
    "        rdf = freud.density.RDF(bins=bins, r_max=rmax, r_min=rmin)\n",
    "        type_A = snap.particles.typeid == snap.particles.types.index(A_name)\n",
    "        type_B = snap.particles.typeid == snap.particles.types.index(B_name)\n",
    "\n",
    "        if exclude_bonded:\n",
    "            molecules = snap_bond_graph(snap)\n",
    "            molecules_A = molecules[type_A]\n",
    "            molecules_B = molecules[type_B]\n",
    "            \n",
    "        for snap in t[start:stop]:\n",
    "            A_pos = snap.particles.position[type_A]\n",
    "            if A_name != B_name:\n",
    "                B_pos = snap.particles.position[type_B]\n",
    "            else:\n",
    "                B_pos = A_pos\n",
    "\n",
    "            box = snap.configuration.box\n",
    "            system = (box, A_pos)\n",
    "            aq = freud.locality.AABBQuery.from_system(system)\n",
    "            nlist = aq.query(B_pos, {\"r_max\": rmax}).toNeighborList()\n",
    "\n",
    "            if exclude_bonded:\n",
    "                nlist.filter(molecules_A[nlist.point_indices]\n",
    "                             != molecules_B[nlist.query_point_indices])\n",
    "\n",
    "            rdf.compute(aq, neighbors=nlist, reset=False)\n",
    "        return rdf\n",
    "    \n",
    "def gsd_rdf2(\n",
    "    rdf_path2,\n",
    "    A_name,\n",
    "    B_name,\n",
    "    start=0,\n",
    "    stop=None,\n",
    "    rmax=None,\n",
    "    rmin=0,\n",
    "    bins=50,\n",
    "    exclude_bonded=True):\n",
    "    \n",
    "    with gsd.hoomd.open(rdf_path2) as t:\n",
    "        snap = t[0]\n",
    "\n",
    "        if rmax is None:\n",
    "            rmax = max(snap.configuration.box[:3]) * 0.45\n",
    "\n",
    "        rdf = freud.density.RDF(bins=bins, r_max=rmax, r_min=rmin)\n",
    "        type_A = snap.particles.typeid == snap.particles.types.index(A_name)\n",
    "        type_B = snap.particles.typeid == snap.particles.types.index(B_name)\n",
    "\n",
    "        if exclude_bonded:\n",
    "            molecules = snap_bond_graph(snap)\n",
    "            molecules_A = molecules[type_A]\n",
    "            molecules_B = molecules[type_B]\n",
    "            \n",
    "        for snap in t[start:stop]:\n",
    "            A_pos = snap.particles.position[type_A]\n",
    "            if A_name != B_name:\n",
    "                B_pos = snap.particles.position[type_B]\n",
    "            else:\n",
    "                B_pos = A_pos\n",
    "\n",
    "            box = snap.configuration.box\n",
    "            system = (box, A_pos)\n",
    "            aq = freud.locality.AABBQuery.from_system(system)\n",
    "            nlist = aq.query(B_pos, {\"r_max\": rmax}).toNeighborList()\n",
    "\n",
    "            if exclude_bonded:\n",
    "                nlist.filter(molecules_A[nlist.point_indices]\n",
    "                             != molecules_B[nlist.query_point_indices])\n",
    "\n",
    "            rdf.compute(aq, neighbors=nlist, reset=False)\n",
    "        return rdf\n",
    "    \n",
    "    \n",
    "def gsd_rdf3(\n",
    "    rdf_path3,\n",
    "    A_name,\n",
    "    B_name,\n",
    "    start=0,\n",
    "    stop=None,\n",
    "    rmax=None,\n",
    "    rmin=0,\n",
    "    bins=50,\n",
    "    exclude_bonded=True):\n",
    "    \n",
    "    with gsd.hoomd.open(rdf_path3) as t:\n",
    "        snap = t[0]\n",
    "\n",
    "        if rmax is None:\n",
    "            rmax = max(snap.configuration.box[:3]) * 0.45\n",
    "\n",
    "        rdf = freud.density.RDF(bins=bins, r_max=rmax, r_min=rmin)\n",
    "        type_A = snap.particles.typeid == snap.particles.types.index(A_name)\n",
    "        type_B = snap.particles.typeid == snap.particles.types.index(B_name)\n",
    "\n",
    "        if exclude_bonded:\n",
    "            molecules = snap_bond_graph(snap)\n",
    "            molecules_A = molecules[type_A]\n",
    "            molecules_B = molecules[type_B]\n",
    "            \n",
    "        for snap in t[start:stop]:\n",
    "            A_pos = snap.particles.position[type_A]\n",
    "            if A_name != B_name:\n",
    "                B_pos = snap.particles.position[type_B]\n",
    "            else:\n",
    "                B_pos = A_pos\n",
    "\n",
    "            box = snap.configuration.box\n",
    "            system = (box, A_pos)\n",
    "            aq = freud.locality.AABBQuery.from_system(system)\n",
    "            nlist = aq.query(B_pos, {\"r_max\": rmax}).toNeighborList()\n",
    "\n",
    "            if exclude_bonded:\n",
    "                nlist.filter(molecules_A[nlist.point_indices]\n",
    "                             != molecules_B[nlist.query_point_indices])\n",
    "\n",
    "            rdf.compute(aq, neighbors=nlist, reset=False)\n",
    "        return rdf"
   ]
  },
  {
   "cell_type": "code",
   "execution_count": 14,
   "metadata": {},
   "outputs": [
    {
     "data": {
      "image/png": "[encoded data removed]",
      "text/plain": [
       "<Figure size 432x288 with 1 Axes>"
      ]
     },
     "metadata": {
      "needs_background": "light"
     },
     "output_type": "display_data"
    }
   ],
   "source": [
    "gsdfile1 = rdf_path1\n",
    "gsdfile2 = rdf_path2\n",
    "gsdfile3 = rdf_path3\n",
    "A_name = \"ss\"\n",
    "B_name = \"ss\"\n",
    "atom= \"Sulfur\"\n",
    "rdf1 = gsd_rdf1(gsdfile1, A_name, B_name, rmin=0.01, rmax=6)\n",
    "rdf2 = gsd_rdf2(gsdfile2, A_name, B_name, rmin=0.01, rmax=6)\n",
    "rdf3 = gsd_rdf3(gsdfile3, A_name, B_name, rmin=0.01, rmax=6)\n",
    "\n",
    "\n",
    "plt.plot(rdf1.bin_centers, rdf1.rdf, label= 'PTB7', ls='dashed', color= 'orange', markersize= '6', linewidth='3')\n",
    "plt.plot(rdf2.bin_centers, rdf2.rdf, label= 'ITIC', color= 'green')\n",
    "plt.plot(rdf3.bin_centers, rdf3.rdf, label= 'PTB7:ITIC', ls='dotted', color= 'blue', linewidth= '3')\n",
    "plt.xlabel(\"r (A.U.)\")\n",
    "plt.ylabel(\"g(r)\")\n",
    "plt.title(\"%s's at %skT %sden\" % (atom, job.sp['kT_reduced'], job.sp['density']), fontsize=16)\n",
    "plt.legend(loc=\"lower right\")\n",
    "plt.show()"
   ]
  },
  {
   "cell_type": "code",
   "execution_count": null,
   "metadata": {},
   "outputs": [],
   "source": []
  }
 ],
 "metadata": {
  "kernelspec": {
   "display_name": "Python 3",
   "language": "python",
   "name": "python3"
  },
  "language_info": {
   "codemirror_mode": {
    "name": "ipython",
    "version": 3
   },
   "file_extension": ".py",
   "mimetype": "text/x-python",
   "name": "python",
   "nbconvert_exporter": "python",
   "pygments_lexer": "ipython3",
   "version": "3.7.6"
  }
 },
 "nbformat": 4,
 "nbformat_minor": 4
}
