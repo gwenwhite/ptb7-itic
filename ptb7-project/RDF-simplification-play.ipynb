{
 "cells": [
  {
   "cell_type": "code",
   "execution_count": 4,
   "metadata": {},
   "outputs": [],
   "source": [
    "import numpy as np\n",
    "import matplotlib.pyplot as plt\n",
    "import freud\n",
    "import signac\n",
    "import gsd\n",
    "import hoomd\n",
    "import gsd.pygsd\n",
    "import gsd.hoomd\n",
    "import scipy\n",
    "from scipy import signal\n",
    "import time\n",
    "import os"
   ]
  },
  {
   "cell_type": "code",
   "execution_count": 5,
   "metadata": {},
   "outputs": [],
   "source": [
    "ptb7_proj = signac.get_project(\"ptb7-project\")\n",
    "itic_proj = signac.get_project(\"ptb7-project\")"
   ]
  },
  {
   "cell_type": "code",
   "execution_count": 16,
   "metadata": {},
   "outputs": [],
   "source": [
    "def atom_type_pos(frame, atom_types): \n",
    "    positions = []\n",
    "    for idx, type_id in enumerate(frame.particles.typeid):\n",
    "        if frame.particles.types[type_id] in atom_types:\n",
    "            positions.append(frame.particles.position[idx])\n",
    "    return positions\n",
    "\n",
    "\n",
    "def rdf_from_gsd(gsd_file, atom_types='all', r_max=5, r_min=0.5, nbins=50, start=95):\n",
    "    f = gsd.pygsd.GSDFile(open(gsd_file, \"rb\"))\n",
    "    #trajectory = gsd.hoomd.open(gsd_file, 'rb')\n",
    "    trajectory = gsd.hoomd.HOOMDTrajectory(f)\n",
    "    \n",
    "    if r_max is None:\n",
    "        r_max = max(trajectory[-1].configuration.box[:3]) * 0.45\n",
    "    freud_rdf = freud.density.RDF(bins=nbins, r_max=r_max, r_min=r_min)\n",
    "    for frame in trajectory[start:]:\n",
    "        if atom_types == 'all':\n",
    "            freud_rdf.compute(frame, reset=False)\n",
    "        else:\n",
    "            query_points = atom_type_pos(frame, atom_types)\n",
    "            box = frame.configuration.box\n",
    "            freud_rdf.compute(system=(box, query_points), reset=False)\n",
    "            x = freud_rdf.bin_centers\n",
    "            y = freud_rdf.rdf\n",
    "            filename = \"{}/trajectory.gsd\".format(job.workspace())  \n",
    "    np.savetxt(filename, np.transpose([x,y]), delimiter=',', header= \"bin_centers, rdf\")\n",
    "    f.close()\n",
    "    return freud_rdf\n",
    "\n",
    "def msd_slope(polymer_length, temp, density, column = [\"all\", \"sulfur\", \"centers\"], step_size = 1):\n",
    "    \n",
    "    filename = \"{}/msd.log\".format(job.workspace())\n",
    "    msd = np.genfromtxt(filename, names = True, delimiter = \",\") \n",
    "    x = msd['timestep']\n",
    "    y = msd[atom_type]\n",
    "    \n",
    "    num_data_points = len(x)\n",
    "    start_index = num_data_points // 10\n",
    "    x_slice = x[-start_index:0]\n",
    "    y_slice = y[-start_index:0]    \n",
    "    \n",
    "    slope = (y_slice[-1] - y_slice[0]) / (x_slice[-1] - x_slice[0])\n",
    "    return slope\n",
    "    f.close()\n",
    "    return\n"
   ]
  },
  {
   "cell_type": "code",
   "execution_count": null,
   "metadata": {},
   "outputs": [],
   "source": []
  },
  {
   "cell_type": "code",
   "execution_count": null,
   "metadata": {},
   "outputs": [],
   "source": [
    "def data_analysis(jobs=[], function=rdf()):\n",
    "    for job in jobs:\n",
    "        go do something\n",
    "        if not job.isfile('rdf-data.txt'):\n",
    "           function(job)\n"
   ]
  }
 ],
 "metadata": {
  "kernelspec": {
   "display_name": "Python 3",
   "language": "python",
   "name": "python3"
  },
  "language_info": {
   "codemirror_mode": {
    "name": "ipython",
    "version": 3
   },
   "file_extension": ".py",
   "mimetype": "text/x-python",
   "name": "python",
   "nbconvert_exporter": "python",
   "pygments_lexer": "ipython3",
   "version": "3.7.6"
  }
 },
 "nbformat": 4,
 "nbformat_minor": 4
}
