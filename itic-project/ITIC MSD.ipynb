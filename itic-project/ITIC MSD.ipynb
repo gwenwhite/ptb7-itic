{
 "cells": [
  {
   "cell_type": "code",
   "execution_count": 1,
   "metadata": {},
   "outputs": [],
   "source": [
    "import freud\n",
    "import gsd\n",
    "import gsd.pygsd\n",
    "import gsd.hoomd\n",
    "import signac\n",
    "import numpy as np\n",
    "import matplotlib.pyplot as plt\n",
    "import matplotlib as mpl\n",
    "import cycler\n",
    "from scipy.stats import linregress\n",
    "import cycler\n",
    "from matplotlib.lines import Line2D"
   ]
  },
  {
   "cell_type": "code",
   "execution_count": 87,
   "metadata": {},
   "outputs": [],
   "source": [
    "data_path= \"/home/erjank_project/itic-project/\"\n",
    "project = signac.get_project(data_path)"
   ]
  },
  {
   "cell_type": "code",
   "execution_count": 88,
   "metadata": {},
   "outputs": [],
   "source": [
    "def atom_type_pos(snap, atom_type):\n",
    "    if not isinstance(atom_type, list):\n",
    "        atom_type = [atom_type]\n",
    "    positions = []\n",
    "    for atom in atom_type:\n",
    "        indices = np.where(snap.particles.typeid == snap.particles.types.index(atom))\n",
    "        positions.append(snap.particles.position[indices])\n",
    "    return np.concatenate(positions)\n",
    "\n",
    "def msd_slope(job, step_size = 2, atom_types='all'):  \n",
    "    msd = np.genfromtxt(job.fn('msd.log'), names=True, delimiter=\"\\t\")\n",
    "    x = msd['timestep'][-3000::step_size]\n",
    "    y = msd[atom_types][-3000::step_size]\n",
    "    slope, intercept, r_value, p_value, std_err = linregress(x, y)\n",
    "    return x, y, slope\n",
    "\n",
    "def msd_from_gsd(gsdfile, start=-30, stop=-1, atom_type='ss', msd_mode = \"window\"):\n",
    "    f = gsd.pygsd.GSDFile(open(gsdfile, \"rb\"))\n",
    "    trajectory = gsd.hoomd.HOOMDTrajectory(f)\n",
    "    positions = []\n",
    "    for frame in trajectory[start:stop]:\n",
    "        if atom_type == 'all':\n",
    "            atom_positions = frame.particles.position[:]\n",
    "        else:\n",
    "            atom_positions = atom_type_pos(frame, atom_type)\n",
    "        positions.append(atom_positions)\n",
    "    msd = freud.msd.MSD(box=trajectory[-1].configuration.box, mode=msd_mode)\n",
    "    msd.compute(positions)\n",
    "    f.close()\n",
    "    return(msd.msd) # This is retruning an array of numbers (the y-axis on the msd plot)"
   ]
  },
  {
   "cell_type": "code",
   "execution_count": 143,
   "metadata": {},
   "outputs": [],
   "source": [
    "data_path= \"/home/erjank_project/itic-project/\"\n",
    "project = signac.get_project(data_path)\n",
    "state_dict = {\"size\": \"small\",\n",
    "              \"density\": 0.9,\n",
    "              \"molecule\": \"ITIC\",\n",
    "              \"process\": \"quench\"}\n",
    "job_list = project.find_jobs(state_dict)\n",
    "for job in job_list:\n",
    "    msd = msd_from_gsd(job.fn('trajectory.gsd'))\n",
    "    y = msd[-15:]\n",
    "    tspf = job.sp['n_steps'] / 100\n",
    "    x = np.arange(0, len(y), 1) * tspf\n",
    "    slope, intercept, r_value, p_value, std_err = linregress(x, y)\n",
    "    job.doc['msd_slope'] = slope\n",
    "    job.doc['msd_slope_r2'] = r_value"
   ]
  },
  {
   "cell_type": "code",
   "execution_count": 149,
   "metadata": {},
   "outputs": [
    {
     "data": {
      "image/png": "[encoded data removed]",
      "text/plain": [
       "<Figure size 432x288 with 1 Axes>"
      ]
     },
     "metadata": {
      "needs_background": "light"
     },
     "output_type": "display_data"
    }
   ],
   "source": [
    "state_dict = {\"size\": \"small\",\n",
    "              \"density\": 0.9,\n",
    "              \"molecule\": \"ITIC\",\n",
    "              \"process\": \"quench\"}\n",
    "job_list = project.find_jobs(state_dict)\n",
    "fig = plt.figure()\n",
    "ax = plt.subplot(111)\n",
    "state_dict['density.$lt'] = 1.3\n",
    "color = plt.cm.coolwarm(np.linspace(0, 1, len(job_list)))\n",
    "mpl.rcParams['axes.prop_cycle'] = cycler.cycler('color', color)\n",
    "for kT,job in job_list.groupby('kT_reduced'):\n",
    "    job = list(job)[0]\n",
    "    msd = msd_from_gsd(job.fn('trajectory.gsd'), atom_type='all')\n",
    "    tspf = job.sp['n_steps'] / 100\n",
    "    y = msd[-15:]\n",
    "    x = np.arange(0, len(y), 1) * tspf\n",
    "    plt.plot(x, y)\n",
    "plt.title(\"MSD of ITIC temperatures at %sden\" % (job.sp['density']))\n",
    "plt.xlabel(\"timestep\", fontsize=14)\n",
    "plt.ylabel(\"msd\", fontsize=14)\n",
    "plt.show()"
   ]
  },
  {
   "cell_type": "code",
   "execution_count": null,
   "metadata": {},
   "outputs": [],
   "source": []
  }
 ],
 "metadata": {
  "kernelspec": {
   "display_name": "Python 3",
   "language": "python",
   "name": "python3"
  },
  "language_info": {
   "codemirror_mode": {
    "name": "ipython",
    "version": 3
   },
   "file_extension": ".py",
   "mimetype": "text/x-python",
   "name": "python",
   "nbconvert_exporter": "python",
   "pygments_lexer": "ipython3",
   "version": "3.7.6"
  }
 },
 "nbformat": 4,
 "nbformat_minor": 4
}
